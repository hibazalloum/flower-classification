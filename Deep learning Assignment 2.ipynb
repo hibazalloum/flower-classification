{
 "cells": [
  {
   "cell_type": "markdown",
   "metadata": {},
   "source": [
    "# Flower Classification Using ConvNet\n",
    "\n",
    "* St. Name: Hiba Nabeel Zalloum\n",
    "* St. Number:  22027007 \n",
    "* Supervisior: Dr. Iyad Al-Shami"
   ]
  },
  {
   "cell_type": "markdown",
   "metadata": {},
   "source": [
    "### Computer Vision with deep learning:\n",
    "\n",
    "#### Introduction:\n",
    "Flower classification is one of the most important areas to be studied through scientific research in the fields of artificial intelligence and deep learning. \n",
    "Some flowers are similar to each other and therefore difficult for computers to recognition between each other. It is an open field of study through special scientific research in the fields of computer vision.\n",
    "\n",
    "#### convolutional neural networks(CNN): \n",
    "\n",
    "They are comprised of node layers, containing an input layer, one or more hidden layers, and an output layer. Each node connects to another and has an associated weight and threshold. If the output of any individual node is above the specified threshold value, that node is activated, sending data to the next layer of the network. Otherwise, no data is passed along to the next layer of the network.\n",
    "are commonly used for natural language processing and speech recognition whereas convolutional neural networks (ConvNets or CNNs) are more often utilized for classification and computer vision tasks. Prior to CNNs, manual, time-consuming feature extraction methods were used to identify objects in images.\n",
    "\n",
    "Convolutional neural networks are distinguished from other neural networks by their superior performance with image, speech, or audio signal inputs. They have three main types of layers, which are:\n",
    "\n",
    "* Convolutional layer\n",
    "* Pooling layer\n",
    "* Fully-connected (FC) layer\n",
    "\n"
   ]
  },
  {
   "cell_type": "markdown",
   "metadata": {},
   "source": [
    "# Flower Classification Implemenation steps : \n",
    "* import labrariy \n",
    "* Accessing files and specifying features and targets\n",
    "* transofrm train data to Matrix \n",
    "* Normalizing train data between 0 to 1\n",
    "* preprocsessing labels (targets) Using Dummies \n",
    "* make target and featuers unique values \n",
    "* suffling data through unioun list \n",
    "* slipting data to train and test \n",
    "* buliding model \n",
    "* model compile and history \n",
    "* ploting \n"
   ]
  },
  {
   "cell_type": "code",
   "execution_count": 1,
   "metadata": {},
   "outputs": [],
   "source": [
    "import glob\n",
    "import cv2\n",
    "from skimage.transform import resize\n",
    "from sklearn.model_selection import train_test_split\n",
    "import matplotlib.pyplot as plt\n",
    "import tensorflow as tf\n",
    "from tensorflow import keras\n",
    "import matplotlib.pyplot as plt\n",
    "import numpy as np\n",
    "import pandas\n",
    "from keras.models import Sequential\n",
    "from keras.layers import Dense, Flatten, Conv2D, MaxPooling2D\n",
    "from tensorflow.keras import layers\n",
    "import random\n",
    "from sklearn import metrics\n",
    "from sklearn.metrics import confusion_matrix\n",
    "import seaborn as sns\n",
    "from keras.layers import Activation"
   ]
  },
  {
   "cell_type": "markdown",
   "metadata": {},
   "source": [
    "# preproscessing "
   ]
  },
  {
   "cell_type": "code",
   "execution_count": 2,
   "metadata": {},
   "outputs": [],
   "source": [
    "flower_file= ['Daffodil', 'Daisy','Iris', 'Sunflower', 'Windflower']\n",
    "featuers = []\n",
    "target =[]\n",
    "\n",
    "for file in flower_file: \n",
    "    path = r'./Flowers/'+ file +'/*.jpg'\n",
    "    folders =glob.glob(path)\n",
    "    \n",
    "    \n",
    "    for folder in folders:\n",
    "        image = cv2.imread(folder)\n",
    "        image = cv2.cvtColor(image, cv2.COLOR_BGR2RGB)\n",
    "        image = resize(image,(64,64))\n",
    "        featuers.append(image)\n",
    "        target.append(file)"
   ]
  },
  {
   "cell_type": "code",
   "execution_count": 3,
   "metadata": {},
   "outputs": [
    {
     "data": {
      "text/plain": [
       "(400, 64, 64, 3)"
      ]
     },
     "execution_count": 3,
     "metadata": {},
     "output_type": "execute_result"
    }
   ],
   "source": [
    "# Transform the image array to a numpy type\n",
    "\n",
    "train = np.array(featuers)\n",
    "\n",
    "train.shape"
   ]
  },
  {
   "cell_type": "code",
   "execution_count": 4,
   "metadata": {},
   "outputs": [],
   "source": [
    "# Reduce the RGB values between 0 and 1\n",
    "\n",
    "train = train.astype('float32') / 255.0"
   ]
  },
  {
   "cell_type": "code",
   "execution_count": 5,
   "metadata": {},
   "outputs": [],
   "source": [
    "# Extract the labels\n",
    "\n",
    "label_dummies = pandas.get_dummies(target)\n",
    "\n",
    "labels =  label_dummies.values.argmax(1)"
   ]
  },
  {
   "cell_type": "code",
   "execution_count": 6,
   "metadata": {},
   "outputs": [
    {
     "data": {
      "text/plain": [
       "array([0, 1, 2, 3, 4], dtype=int64)"
      ]
     },
     "execution_count": 6,
     "metadata": {},
     "output_type": "execute_result"
    }
   ],
   "source": [
    "pandas.unique(target)\n",
    "pandas.unique(labels)"
   ]
  },
  {
   "cell_type": "code",
   "execution_count": 7,
   "metadata": {},
   "outputs": [],
   "source": [
    "# Shuffle the labels and images randomly for better results\n",
    "\n",
    "union_list = list(zip(train, labels))\n",
    "random.shuffle(union_list)\n",
    "train,labels = zip(*union_list)\n",
    "\n",
    "# Convert the shuffled list to numpy array type\n",
    "\n",
    "train = np.array(train)\n",
    "labels = np.array(labels)\n",
    "\n",
    "#train[0]"
   ]
  },
  {
   "cell_type": "markdown",
   "metadata": {},
   "source": [
    "# spliting data and build Model"
   ]
  },
  {
   "cell_type": "code",
   "execution_count": 8,
   "metadata": {},
   "outputs": [],
   "source": [
    "x_train, x_test, y_train, y_test = train_test_split(train, labels, test_size=0.10, random_state=42)"
   ]
  },
  {
   "cell_type": "code",
   "execution_count": 9,
   "metadata": {},
   "outputs": [
    {
     "name": "stdout",
     "output_type": "stream",
     "text": [
      "Model: \"sequential\"\n",
      "_________________________________________________________________\n",
      "Layer (type)                 Output Shape              Param #   \n",
      "=================================================================\n",
      "conv2d (Conv2D)              (None, 62, 62, 8)         224       \n",
      "_________________________________________________________________\n",
      "max_pooling2d (MaxPooling2D) (None, 31, 31, 8)         0         \n",
      "_________________________________________________________________\n",
      "conv2d_1 (Conv2D)            (None, 29, 29, 8)         584       \n",
      "_________________________________________________________________\n",
      "max_pooling2d_1 (MaxPooling2 (None, 14, 14, 8)         0         \n",
      "_________________________________________________________________\n",
      "conv2d_2 (Conv2D)            (None, 12, 12, 16)        1168      \n",
      "_________________________________________________________________\n",
      "max_pooling2d_2 (MaxPooling2 (None, 6, 6, 16)          0         \n",
      "_________________________________________________________________\n",
      "conv2d_3 (Conv2D)            (None, 4, 4, 64)          9280      \n",
      "_________________________________________________________________\n",
      "max_pooling2d_3 (MaxPooling2 (None, 2, 2, 64)          0         \n",
      "_________________________________________________________________\n",
      "flatten (Flatten)            (None, 256)               0         \n",
      "_________________________________________________________________\n",
      "dense (Dense)                (None, 5)                 1285      \n",
      "=================================================================\n",
      "Total params: 12,541\n",
      "Trainable params: 12,541\n",
      "Non-trainable params: 0\n",
      "_________________________________________________________________\n"
     ]
    }
   ],
   "source": [
    "model = keras.Sequential()\n",
    "model.add(layers.Conv2D(8, kernel_size=(3,3), activation='relu', input_shape=(64,64,3)))\n",
    "model.add(layers.MaxPooling2D(pool_size=(2, 2)))\n",
    "\n",
    "\n",
    "model.add(layers.Conv2D(8, (3, 3), activation='relu'))\n",
    "model.add(layers.MaxPooling2D(pool_size=(2, 2)))\n",
    "\n",
    "model.add(layers.Conv2D(16, (3, 3), activation='relu'))\n",
    "model.add(layers.MaxPooling2D(pool_size=(2, 2)))\n",
    "\n",
    "model.add(layers.Conv2D(64, (3, 3), activation='relu'))\n",
    "model.add(layers.MaxPooling2D(pool_size=(2, 2)))\n",
    "\n",
    "\n",
    "model.add(layers.Flatten())\n",
    "model.add(layers.Dense(5, activation='softmax'))\n",
    "model.summary()"
   ]
  },
  {
   "cell_type": "code",
   "execution_count": 10,
   "metadata": {},
   "outputs": [
    {
     "name": "stdout",
     "output_type": "stream",
     "text": [
      "Epoch 1/30\n",
      "4/4 [==============================] - 1s 169ms/step - loss: 1.6097 - accuracy: 0.1850 - val_loss: 1.6088 - val_accuracy: 0.2250\n",
      "Epoch 2/30\n",
      "4/4 [==============================] - 0s 96ms/step - loss: 1.6095 - accuracy: 0.2000 - val_loss: 1.6095 - val_accuracy: 0.2250\n",
      "Epoch 3/30\n",
      "4/4 [==============================] - 0s 85ms/step - loss: 1.6094 - accuracy: 0.2000 - val_loss: 1.6088 - val_accuracy: 0.2250\n",
      "Epoch 4/30\n",
      "4/4 [==============================] - 0s 87ms/step - loss: 1.6094 - accuracy: 0.1875 - val_loss: 1.6076 - val_accuracy: 0.3250\n",
      "Epoch 5/30\n",
      "4/4 [==============================] - 0s 89ms/step - loss: 1.6092 - accuracy: 0.2000 - val_loss: 1.6070 - val_accuracy: 0.3250\n",
      "Epoch 6/30\n",
      "4/4 [==============================] - 0s 86ms/step - loss: 1.6092 - accuracy: 0.2000 - val_loss: 1.6071 - val_accuracy: 0.3250\n",
      "Epoch 7/30\n",
      "4/4 [==============================] - 0s 81ms/step - loss: 1.6090 - accuracy: 0.2000 - val_loss: 1.6066 - val_accuracy: 0.3250\n",
      "Epoch 8/30\n",
      "4/4 [==============================] - 0s 85ms/step - loss: 1.6088 - accuracy: 0.2000 - val_loss: 1.6057 - val_accuracy: 0.3250\n",
      "Epoch 9/30\n",
      "4/4 [==============================] - 0s 86ms/step - loss: 1.6084 - accuracy: 0.2000 - val_loss: 1.6057 - val_accuracy: 0.3250\n",
      "Epoch 10/30\n",
      "4/4 [==============================] - 0s 79ms/step - loss: 1.6082 - accuracy: 0.2000 - val_loss: 1.6033 - val_accuracy: 0.3250\n",
      "Epoch 11/30\n",
      "4/4 [==============================] - 0s 77ms/step - loss: 1.6074 - accuracy: 0.2000 - val_loss: 1.6020 - val_accuracy: 0.3250\n",
      "Epoch 12/30\n",
      "4/4 [==============================] - 0s 76ms/step - loss: 1.6062 - accuracy: 0.2250 - val_loss: 1.6012 - val_accuracy: 0.3250\n",
      "Epoch 13/30\n",
      "4/4 [==============================] - 0s 78ms/step - loss: 1.6042 - accuracy: 0.2000 - val_loss: 1.5957 - val_accuracy: 0.3250\n",
      "Epoch 14/30\n",
      "4/4 [==============================] - 0s 79ms/step - loss: 1.6014 - accuracy: 0.1975 - val_loss: 1.5883 - val_accuracy: 0.3250\n",
      "Epoch 15/30\n",
      "4/4 [==============================] - 0s 91ms/step - loss: 1.5954 - accuracy: 0.2000 - val_loss: 1.5745 - val_accuracy: 0.3250\n",
      "Epoch 16/30\n",
      "4/4 [==============================] - 0s 80ms/step - loss: 1.5867 - accuracy: 0.2000 - val_loss: 1.5578 - val_accuracy: 0.3500\n",
      "Epoch 17/30\n",
      "4/4 [==============================] - 0s 88ms/step - loss: 1.5755 - accuracy: 0.2025 - val_loss: 1.5301 - val_accuracy: 0.3750\n",
      "Epoch 18/30\n",
      "4/4 [==============================] - 0s 79ms/step - loss: 1.5524 - accuracy: 0.2800 - val_loss: 1.4917 - val_accuracy: 0.3250\n",
      "Epoch 19/30\n",
      "4/4 [==============================] - 0s 80ms/step - loss: 1.5317 - accuracy: 0.2525 - val_loss: 1.4774 - val_accuracy: 0.5500\n",
      "Epoch 20/30\n",
      "4/4 [==============================] - 0s 83ms/step - loss: 1.5014 - accuracy: 0.2975 - val_loss: 1.4112 - val_accuracy: 0.4750\n",
      "Epoch 21/30\n",
      "4/4 [==============================] - 0s 81ms/step - loss: 1.4653 - accuracy: 0.3525 - val_loss: 1.3538 - val_accuracy: 0.4750\n",
      "Epoch 22/30\n",
      "4/4 [==============================] - 0s 79ms/step - loss: 1.4334 - accuracy: 0.4050 - val_loss: 1.3117 - val_accuracy: 0.5000\n",
      "Epoch 23/30\n",
      "4/4 [==============================] - 0s 76ms/step - loss: 1.3975 - accuracy: 0.3625 - val_loss: 1.2941 - val_accuracy: 0.5750\n",
      "Epoch 24/30\n",
      "4/4 [==============================] - 0s 77ms/step - loss: 1.3697 - accuracy: 0.3875 - val_loss: 1.2346 - val_accuracy: 0.5750\n",
      "Epoch 25/30\n",
      "4/4 [==============================] - 0s 78ms/step - loss: 1.3382 - accuracy: 0.4200 - val_loss: 1.2191 - val_accuracy: 0.5500\n",
      "Epoch 26/30\n",
      "4/4 [==============================] - 0s 82ms/step - loss: 1.3028 - accuracy: 0.4200 - val_loss: 1.2821 - val_accuracy: 0.5000\n",
      "Epoch 27/30\n",
      "4/4 [==============================] - 0s 75ms/step - loss: 1.2866 - accuracy: 0.4100 - val_loss: 1.1586 - val_accuracy: 0.5250\n",
      "Epoch 28/30\n",
      "4/4 [==============================] - 0s 76ms/step - loss: 1.2548 - accuracy: 0.4450 - val_loss: 1.1407 - val_accuracy: 0.5500\n",
      "Epoch 29/30\n",
      "4/4 [==============================] - 0s 76ms/step - loss: 1.2041 - accuracy: 0.4800 - val_loss: 1.0776 - val_accuracy: 0.5750\n",
      "Epoch 30/30\n",
      "4/4 [==============================] - 0s 76ms/step - loss: 1.1738 - accuracy: 0.4625 - val_loss: 1.0573 - val_accuracy: 0.5500\n"
     ]
    }
   ],
   "source": [
    "model.compile(optimizer='adam',loss=tf.keras.losses.SparseCategoricalCrossentropy()\n",
    "              ,metrics=['accuracy'])\n",
    "# train the model\n",
    "history = model.fit(train,labels , epochs=30, batch_size =100 ,\n",
    "                    validation_data=(x_test, y_test))"
   ]
  },
  {
   "cell_type": "markdown",
   "metadata": {},
   "source": [
    "# plots"
   ]
  },
  {
   "cell_type": "code",
   "execution_count": 11,
   "metadata": {},
   "outputs": [
    {
     "name": "stdout",
     "output_type": "stream",
     "text": [
      "2/2 - 0s - loss: 1.0573 - accuracy: 0.5500\n"
     ]
    },
    {
     "data": {
      "image/png": "[encoded data removed]",
      "text/plain": [
       "<Figure size 432x288 with 1 Axes>"
      ]
     },
     "metadata": {
      "needs_background": "light"
     },
     "output_type": "display_data"
    }
   ],
   "source": [
    "plt.plot(history.history['accuracy'], label='accuracy')\n",
    "plt.plot(history.history['val_accuracy'], label = 'val_accuracy')\n",
    "plt.xlabel('Epoch')\n",
    "plt.ylabel('Accuracy')\n",
    "plt.ylim([0.5, 1])\n",
    "plt.legend(loc='upper left')\n",
    "\n",
    "test_loss, test_acc = model.evaluate(x_test,  y_test, verbose=2)"
   ]
  },
  {
   "cell_type": "code",
   "execution_count": 12,
   "metadata": {},
   "outputs": [
    {
     "name": "stdout",
     "output_type": "stream",
     "text": [
      "0.550000011920929\n"
     ]
    }
   ],
   "source": [
    "print(test_acc)\n"
   ]
  },
  {
   "cell_type": "code",
   "execution_count": 13,
   "metadata": {},
   "outputs": [],
   "source": [
    "# predict test set\n",
    "clf = model.predict(x_test, verbose=0)"
   ]
  },
  {
   "cell_type": "code",
   "execution_count": 14,
   "metadata": {},
   "outputs": [
    {
     "name": "stdout",
     "output_type": "stream",
     "text": [
      "              precision    recall  f1-score   support\n",
      "\n",
      "           0       0.00      0.00      0.00         7\n",
      "           1       0.73      0.85      0.79        13\n",
      "           2       0.50      0.25      0.33         4\n",
      "           3       0.47      1.00      0.64         7\n",
      "           4       0.50      0.33      0.40         9\n",
      "\n",
      "    accuracy                           0.55        40\n",
      "   macro avg       0.44      0.49      0.43        40\n",
      "weighted avg       0.48      0.55      0.49        40\n",
      "\n"
     ]
    }
   ],
   "source": [
    "print(metrics.classification_report(y_test, np.argmax(clf, axis = 1)))\n"
   ]
  },
  {
   "cell_type": "code",
   "execution_count": 15,
   "metadata": {},
   "outputs": [],
   "source": [
    "cm = confusion_matrix(y_test, np.argmax(clf, axis = 1))"
   ]
  },
  {
   "cell_type": "code",
   "execution_count": 16,
   "metadata": {},
   "outputs": [
    {
     "data": {
      "image/png": "[encoded data removed]",
      "text/plain": [
       "<Figure size 504x360 with 2 Axes>"
      ]
     },
     "metadata": {
      "needs_background": "light"
     },
     "output_type": "display_data"
    }
   ],
   "source": [
    "plt.figure(figsize=(7,5))\n",
    "sns.heatmap(cm, annot=True, cmap=\"BuPu\")\n",
    "plt.title('Confusion Matrix')\n",
    "plt.ylabel('Actal Values')\n",
    "plt.xlabel('Predicted Values')\n",
    "plt.show()"
   ]
  },
  {
   "cell_type": "markdown",
   "metadata": {},
   "source": [
    "### result: \n",
    "\n",
    "we need to change parameter such as minibatch size, number of epoches , output layer activation function, hidden layer and kernal size to get more effecifint result we got have 55% of accuracy.. so the model is bad :( \n",
    " "
   ]
  },
  {
   "cell_type": "code",
   "execution_count": null,
   "metadata": {},
   "outputs": [],
   "source": []
  }
 ],
 "metadata": {
  "kernelspec": {
   "display_name": "Python 3",
   "language": "python",
   "name": "python3"
  },
  "language_info": {
   "codemirror_mode": {
    "name": "ipython",
    "version": 3
   },
   "file_extension": ".py",
   "mimetype": "text/x-python",
   "name": "python",
   "nbconvert_exporter": "python",
   "pygments_lexer": "ipython3",
   "version": "3.8.5"
  }
 },
 "nbformat": 4,
 "nbformat_minor": 4
}
